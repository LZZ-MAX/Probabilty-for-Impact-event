{
 "cells": [
  {
   "cell_type": "code",
   "execution_count": 2,
   "metadata": {},
   "outputs": [],
   "source": [
    "import numpy as np\n",
    "import pandas as pd\n",
    "from sklearn.preprocessing import LabelEncoder\n",
    "from sklearn.model_selection import train_test_split\n",
    "import matplotlib.pyplot as plt\n",
    "import seaborn as sns\n",
    "from sklearn.neighbors import KNeighborsClassifier\n",
    "from sklearn.metrics import confusion_matrix, accuracy_score\n"
   ]
  },
  {
   "cell_type": "code",
   "execution_count": 3,
   "metadata": {},
   "outputs": [
    {
     "name": "stdout",
     "output_type": "stream",
     "text": [
      "   Neo Reference ID     Name  Absolute Magnitude  Est Dia in KM(min)  \\\n",
      "0           3703080  3703080                21.6            0.127220   \n",
      "1           3723955  3723955                21.3            0.146068   \n",
      "2           2446862  2446862                20.3            0.231502   \n",
      "3           3092506  3092506                27.4            0.008801   \n",
      "4           3514799  3514799                21.6            0.127220   \n",
      "\n",
      "   Est Dia in KM(max)  Est Dia in M(min)  Est Dia in M(max)  \\\n",
      "0            0.284472         127.219879         284.472297   \n",
      "1            0.326618         146.067964         326.617897   \n",
      "2            0.517654         231.502122         517.654482   \n",
      "3            0.019681           8.801465          19.680675   \n",
      "4            0.284472         127.219879         284.472297   \n",
      "\n",
      "   Est Dia in Miles(min)  Est Dia in Miles(max)  Est Dia in Feet(min)  ...  \\\n",
      "0               0.079051               0.176763            417.388066  ...   \n",
      "1               0.090762               0.202951            479.225620  ...   \n",
      "2               0.143849               0.321655            759.521423  ...   \n",
      "3               0.005469               0.012229             28.876199  ...   \n",
      "4               0.079051               0.176763            417.388066  ...   \n",
      "\n",
      "   Asc Node Longitude Orbital Period  Perihelion Distance  Perihelion Arg  \\\n",
      "0          314.373913     609.599786             0.808259       57.257470   \n",
      "1          136.717242     425.869294             0.718200      313.091975   \n",
      "2          259.475979     643.580228             0.950791      248.415038   \n",
      "3           57.173266     514.082140             0.983902       18.707701   \n",
      "4           84.629307     495.597821             0.967687      158.263596   \n",
      "\n",
      "   Aphelion Dist  Perihelion Time  Mean Anomaly  Mean Motion  Equinox  \\\n",
      "0       2.005764     2.458162e+06    264.837533     0.590551    J2000   \n",
      "1       1.497352     2.457795e+06    173.741112     0.845330    J2000   \n",
      "2       1.966857     2.458120e+06    292.893654     0.559371    J2000   \n",
      "3       1.527904     2.457902e+06     68.741007     0.700277    J2000   \n",
      "4       1.483543     2.457814e+06    135.142133     0.726395    J2000   \n",
      "\n",
      "   Hazardous  \n",
      "0       True  \n",
      "1      False  \n",
      "2       True  \n",
      "3      False  \n",
      "4       True  \n",
      "\n",
      "[5 rows x 40 columns]\n"
     ]
    }
   ],
   "source": [
    "# Import the data from nasa.csv into a DataFrame\n",
    "plt.rcParams['font.sans-serif'] = ['Microsoft YaHei']\n",
    "nasa_df = pd.read_csv('nasa.csv')\n",
    "\n",
    "X = nasa_df[['Asc Node Longitude', 'Orbital Period', 'Perihelion Distance', 'Perihelion Arg', 'Aphelion Dist', 'Perihelion Time', 'Mean Anomaly', 'Mean Motion']]\n",
    "y = nasa_df[['Hazardous']]\n",
    "\n",
    "print(nasa_df.head())\n"
   ]
  },
  {
   "cell_type": "code",
   "execution_count": 4,
   "metadata": {},
   "outputs": [
    {
     "name": "stdout",
     "output_type": "stream",
     "text": [
      "資料是否有空值: 0\n",
      "資料筆數: (4687, 40)\n",
      "資料的欄位名稱，分別是: Index(['Neo Reference ID', 'Name', 'Absolute Magnitude', 'Est Dia in KM(min)',\n",
      "       'Est Dia in KM(max)', 'Est Dia in M(min)', 'Est Dia in M(max)',\n",
      "       'Est Dia in Miles(min)', 'Est Dia in Miles(max)',\n",
      "       'Est Dia in Feet(min)', 'Est Dia in Feet(max)', 'Close Approach Date',\n",
      "       'Epoch Date Close Approach', 'Relative Velocity km per sec',\n",
      "       'Relative Velocity km per hr', 'Miles per hour',\n",
      "       'Miss Dist.(Astronomical)', 'Miss Dist.(lunar)',\n",
      "       'Miss Dist.(kilometers)', 'Miss Dist.(miles)', 'Orbiting Body',\n",
      "       'Orbit ID', 'Orbit Determination Date', 'Orbit Uncertainity',\n",
      "       'Minimum Orbit Intersection', 'Jupiter Tisserand Invariant',\n",
      "       'Epoch Osculation', 'Eccentricity', 'Semi Major Axis', 'Inclination',\n",
      "       'Asc Node Longitude', 'Orbital Period', 'Perihelion Distance',\n",
      "       'Perihelion Arg', 'Aphelion Dist', 'Perihelion Time', 'Mean Anomaly',\n",
      "       'Mean Motion', 'Equinox', 'Hazardous'],\n",
      "      dtype='object')\n",
      "第一筆的資料內容: Neo Reference ID                            3703080\n",
      "Name                                        3703080\n",
      "Absolute Magnitude                             21.6\n",
      "Est Dia in KM(min)                          0.12722\n",
      "Est Dia in KM(max)                         0.284472\n",
      "Est Dia in M(min)                        127.219879\n",
      "Est Dia in M(max)                        284.472297\n",
      "Est Dia in Miles(min)                      0.079051\n",
      "Est Dia in Miles(max)                      0.176763\n",
      "Est Dia in Feet(min)                     417.388066\n",
      "Est Dia in Feet(max)                     933.308089\n",
      "Close Approach Date                      1995-01-01\n",
      "Epoch Date Close Approach              788947200000\n",
      "Relative Velocity km per sec               6.115834\n",
      "Relative Velocity km per hr            22017.003799\n",
      "Miles per hour                         13680.509944\n",
      "Miss Dist.(Astronomical)                   0.419483\n",
      "Miss Dist.(lunar)                        163.178711\n",
      "Miss Dist.(kilometers)                   62753692.0\n",
      "Miss Dist.(miles)                        38993336.0\n",
      "Orbiting Body                                 Earth\n",
      "Orbit ID                                         17\n",
      "Orbit Determination Date        2017-04-06 08:36:37\n",
      "Orbit Uncertainity                                5\n",
      "Minimum Orbit Intersection                 0.025282\n",
      "Jupiter Tisserand Invariant                   4.634\n",
      "Epoch Osculation                          2458000.5\n",
      "Eccentricity                               0.425549\n",
      "Semi Major Axis                            1.407011\n",
      "Inclination                                6.025981\n",
      "Asc Node Longitude                       314.373913\n",
      "Orbital Period                           609.599786\n",
      "Perihelion Distance                        0.808259\n",
      "Perihelion Arg                             57.25747\n",
      "Aphelion Dist                              2.005764\n",
      "Perihelion Time                       2458161.64172\n",
      "Mean Anomaly                             264.837533\n",
      "Mean Motion                                0.590551\n",
      "Equinox                                       J2000\n",
      "Hazardous                                      True\n",
      "Name: 0, dtype: object\n",
      "第一筆的預測目標: True\n"
     ]
    }
   ],
   "source": [
    "is_null_counter = nasa_df.isnull().values.sum()\n",
    "print(\"資料是否有空值:\", is_null_counter)\n",
    "print(\"資料筆數:\", nasa_df.shape)\n",
    "print(\"資料的欄位名稱，分別是:\", nasa_df.keys())\n",
    "print(\"第一筆的資料內容:\", nasa_df.iloc[0,::])\n",
    "print(\"第一筆的預測目標:\", nasa_df['Hazardous'][0])\n"
   ]
  },
  {
   "cell_type": "code",
   "execution_count": 5,
   "metadata": {},
   "outputs": [
    {
     "name": "stdout",
     "output_type": "stream",
     "text": [
      "非數值的欄位名稱: ['Close Approach Date', 'Orbiting Body', 'Orbit Determination Date', 'Equinox']\n",
      "獨立變數 X 的欄位名稱: Index(['Asc Node Longitude', 'Orbital Period', 'Perihelion Distance',\n",
      "       'Perihelion Arg', 'Aphelion Dist', 'Perihelion Time', 'Mean Anomaly',\n",
      "       'Mean Motion'],\n",
      "      dtype='object')\n",
      "相依變數 y 的欄位名稱: Hazardous\n"
     ]
    }
   ],
   "source": [
    "# 檢查每個欄位的資料型別\n",
    "data_types = nasa_df.dtypes\n",
    "\n",
    "# 找出非數值的欄位名稱\n",
    "non_numeric_columns = data_types[data_types != 'float64'][data_types != 'int64'].index.tolist()\n",
    "\n",
    "# 確保 'Hazardous' 不在非數值欄位名稱列表中\n",
    "if 'Hazardous' in non_numeric_columns:\n",
    "    non_numeric_columns.remove('Hazardous')\n",
    "\n",
    "print(\"非數值的欄位名稱:\", non_numeric_columns)\n",
    "\n",
    "# 將 'Hazardous' 作為相依變數 y\n",
    "y = nasa_df['Hazardous']\n",
    "\n",
    "# 將其餘欄位作為獨立變數 X\n",
    "X = nasa_df[['Asc Node Longitude', 'Orbital Period', 'Perihelion Distance', 'Perihelion Arg', 'Aphelion Dist', 'Perihelion Time', 'Mean Anomaly', 'Mean Motion']]\n",
    "\n",
    "# 刪除識別碼或唯一標識符欄位\n",
    "if 'ID' in X.columns:\n",
    "    X = X.drop(columns=['ID'])\n",
    "\n",
    "# 刪除非數值欄位（如果這些欄位不能直接用於模型中）\n",
    "non_numeric_columns = [col for col in non_numeric_columns if col in X.columns]\n",
    "X = X.drop(columns=non_numeric_columns)\n",
    "\n",
    "print(\"獨立變數 X 的欄位名稱:\", X.columns)\n",
    "print(\"相依變數 y 的欄位名稱:\", y.name)"
   ]
  },
  {
   "cell_type": "code",
   "execution_count": 6,
   "metadata": {},
   "outputs": [
    {
     "name": "stdout",
     "output_type": "stream",
     "text": [
      "(3749, 8) (938, 8)\n"
     ]
    }
   ],
   "source": [
    "X = nasa_df[['Asc Node Longitude', 'Orbital Period', 'Perihelion Distance', 'Perihelion Arg', 'Aphelion Dist', 'Perihelion Time', 'Mean Anomaly', 'Mean Motion']]\n",
    "y = nasa_df['Hazardous']\n",
    "\n",
    "train_X, test_X, train_y, test_y = train_test_split(X, y, test_size=0.2, random_state=0)\n",
    "print(train_X.shape, test_X.shape)"
   ]
  }
 ],
 "metadata": {
  "kernelspec": {
   "display_name": "Python 3",
   "language": "python",
   "name": "python3"
  },
  "language_info": {
   "codemirror_mode": {
    "name": "ipython",
    "version": 3
   },
   "file_extension": ".py",
   "mimetype": "text/x-python",
   "name": "python",
   "nbconvert_exporter": "python",
   "pygments_lexer": "ipython3",
   "version": "3.12.6"
  }
 },
 "nbformat": 4,
 "nbformat_minor": 2
}
